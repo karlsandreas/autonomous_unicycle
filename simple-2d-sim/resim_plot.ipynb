{
 "cells": [
  {
   "cell_type": "code",
   "execution_count": 1,
   "metadata": {},
   "outputs": [
    {
     "name": "stdout",
     "output_type": "stream",
     "text": [
      "dict_keys(['msg', 'steps', 'qsz', 'switch', 't', 'I_w', 'erpm', 'ax', 'ay', 'az', 'gx', 'theta', 'theta_d', 'x', 'x_d'])\n"
     ]
    }
   ],
   "source": [
    "from plot import PlotValuesForOneGraph\n",
    "\n",
    "from parser import DebugParser\n",
    "import matplotlib.pyplot as plt\n",
    "import numpy as np\n",
    "\n",
    "import initials as init\n",
    "\n",
    "DEFAULT_PARAMETERS = init.DEFAULT_PARAMETERS\n",
    "\n",
    "p = DebugParser(\"/home/andreas/School-local/Kandidatarbete/autonomous_unicycle/sensor_data/testrun_pitch_20230329/run-3.txt\")\n",
    "\n",
    "\n",
    "p.parse()\n",
    "\n",
    "saved_data = p.get_state_dict()\n",
    "\n",
    "iterations = saved_data[\"dt\"].size\n",
    "\n",
    "print(p.data_dict.keys())\n"
   ]
  },
  {
   "cell_type": "code",
   "execution_count": 2,
   "metadata": {},
   "outputs": [],
   "source": [
    "%matplotlib qt\n"
   ]
  },
  {
   "cell_type": "code",
   "execution_count": 3,
   "metadata": {},
   "outputs": [],
   "source": [
    "angle_d = PlotValuesForOneGraph(iterations, [\"Gyro x\", \"Top angle d\"])\n",
    "angle = PlotValuesForOneGraph(iterations, [\"Top angle\"])\n",
    "dist = PlotValuesForOneGraph(iterations, [\"X\"])\n",
    "rpm = PlotValuesForOneGraph(iterations, [\"Erpm\", \"X_d\"])\n",
    "current = PlotValuesForOneGraph(iterations, [\"Current\"])\n",
    "acceleration = PlotValuesForOneGraph(iterations, [\"ax\", \"ay\",\"az\"])\n",
    "\n",
    "erpm_to_rpm = 22.9\n",
    "\n",
    "for i in range(iterations):\n",
    "    angle_d.add([-p.data_dict[\"gx\"][i],p.data_dict[\"theta_d\"][i]/1000],i)\n",
    "    angle.add([p.data_dict[\"theta\"][i]/1000],i)\n",
    "    dist.add([p.data_dict[\"x\"][i]/1000],i)\n",
    "    rpm.add([p.data_dict[\"erpm\"][i] / erpm_to_rpm,(p.data_dict[\"x_d\"][i] / DEFAULT_PARAMETERS.wheel_rad) * (30 / np.pi)/1000], i)\n",
    "    current.add([p.data_dict[\"I_w\"][i]/1000],i)\n",
    "    acceleration.add([p.data_dict[\"ax\"][i]/1000,p.data_dict[\"ay\"][i]/1000,p.data_dict[\"az\"][i]/1000],i)\n",
    "    \n",
    "plots = [angle_d,angle, dist,rpm, current, acceleration]\n",
    "fig,axs = plt.subplots(len(plots))\n",
    "\n",
    "for i in range(len(plots)):\n",
    "    plot_obj = plots[i]\n",
    "    data = plot_obj.get()\n",
    "    for lab in plot_obj.labels:\n",
    "        vals = data[1]\n",
    "        axs[i].plot(data[0],vals[lab], label = lab) \n",
    "\n",
    "fig.legend()\n",
    "plt.xlabel(\"Time [s]\")\n",
    "axs[0].set_ylabel(\"Rad/s\")\n",
    "axs[1].set_ylabel(\"m/s\")\n",
    "#axs[2].set_ylabel(\"m/s^2\")\n",
    "plt.show()"
   ]
  },
  {
   "cell_type": "code",
   "execution_count": null,
   "metadata": {},
   "outputs": [],
   "source": [
    "print(\"Avg dt:\", sum(saved_data[\"dt\"])/saved_data[\"dt\"].size)\n",
    "print(saved_data[\"dt\"].size)\n",
    "print(saved_data[\"dt\"][:10])"
   ]
  },
  {
   "cell_type": "code",
   "execution_count": null,
   "metadata": {},
   "outputs": [],
   "source": [
    "gryo = -np.array(p.data_dict[\"gx\"])\n",
    "theta_d = np.array(p.data_dict[\"theta_d\"])/1000\n",
    "\n",
    "g_max = gryo.argmax()\n",
    "t_max = theta_d.argmax()\n",
    "\n",
    "print(\"Gyro max: \",g_max,\" Theta_d max: \", t_max)\n",
    "print(\"Time diff: \", (p.data_dict[\"t\"][t_max] - p.data_dict[\"t\"][g_max]) / 1000)"
   ]
  },
  {
   "cell_type": "code",
   "execution_count": 4,
   "metadata": {},
   "outputs": [
    {
     "name": "stdout",
     "output_type": "stream",
     "text": [
      "4670\n",
      "dict_keys(['msg', 'steps', 'qsz', 'switch', 't', 'I_w', 'erpm', 'ax', 'ay', 'az', 'gx', 'theta', 'theta_d', 'x', 'x_d'])\n"
     ]
    }
   ],
   "source": [
    "\n",
    "p2 = DebugParser(\"/home/andreas/School-local/Kandidatarbete/autonomous_unicycle/sensor_data/testrun_pitch_20230329/run-5.txt\")\n",
    "\n",
    "p2.parse()\n",
    "\n",
    "saved_data_2 = p2.get_state_dict()\n",
    "\n",
    "iterations = saved_data_2[\"dt\"].size\n",
    "print(iterations)\n",
    "\n",
    "print(p2.data_dict.keys())"
   ]
  },
  {
   "cell_type": "code",
   "execution_count": 5,
   "metadata": {},
   "outputs": [],
   "source": [
    "angle_d = PlotValuesForOneGraph(iterations, [\"Gyro x\", \"Top angle d\"])\n",
    "angle = PlotValuesForOneGraph(iterations, [\"Top angle\"])\n",
    "dist = PlotValuesForOneGraph(iterations, [\"X\"])\n",
    "rpm = PlotValuesForOneGraph(iterations, [\"Erpm\", \"X_d\"])\n",
    "current = PlotValuesForOneGraph(iterations, [\"Current\"])\n",
    "acceleration = PlotValuesForOneGraph(iterations, [\"ax\", \"ay\",\"az\"])\n",
    "\n",
    "erpm_to_rpm = 22.9\n",
    "for i in range(iterations-1):\n",
    "    angle_d.add([-p2.data_dict[\"gx\"][i],p2.data_dict[\"theta_d\"][i]/1000],i)\n",
    "    angle.add([p2.data_dict[\"theta\"][i]/1000],i)\n",
    "    dist.add([p2.data_dict[\"x\"][i]/1000],i)\n",
    "    rpm.add([-p2.data_dict[\"erpm\"][i] / erpm_to_rpm,(p2.data_dict[\"x_d\"][i] / DEFAULT_PARAMETERS.wheel_rad) * (30 / np.pi)/1000], i)\n",
    "    current.add([p2.data_dict[\"I_w\"][i]/1000],i)\n",
    "    acceleration.add([p2.data_dict[\"ax\"][i]/1000,p2.data_dict[\"ay\"][i]/1000,p2.data_dict[\"az\"][i]/1000],i)\n",
    "    \n",
    "plots = [angle_d,angle, dist,rpm, current, acceleration]\n",
    "\n",
    "fig,axs = plt.subplots(len(plots), sharex=True)\n",
    "    \n",
    "for i in range(len(plots)):\n",
    "    plot_obj = plots[i]\n",
    "    data = plot_obj.get()\n",
    "    for lab in plot_obj.labels:\n",
    "        vals = data[1]\n",
    "        axs[i].plot(data[0],vals[lab], label = lab) \n",
    "\n",
    "fig.legend()\n",
    "plt.xlabel(\"Time [s]\")\n",
    "axs[0].set_ylabel(\"Rad/s\")\n",
    "axs[1].set_ylabel(\"m/s\")\n",
    "#axs[2].set_ylabel(\"m/s^2\")\n",
    "plt.show()"
   ]
  },
  {
   "cell_type": "code",
   "execution_count": null,
   "metadata": {},
   "outputs": [],
   "source": [
    "print(\"Avg dt:\", sum(saved_data_2[\"dt\"])/saved_data_2[\"dt\"].size)"
   ]
  },
  {
   "cell_type": "code",
   "execution_count": null,
   "metadata": {},
   "outputs": [],
   "source": [
    "gryo = -np.array(p2.data_dict[\"gx\"])\n",
    "theta_d = np.array(p2.data_dict[\"theta_d\"])/1000\n",
    "\n",
    "g_max = gryo.argmax()\n",
    "t_max = theta_d.argmax()\n",
    "\n",
    "print(\"Gyro max: \",g_max,\" Theta_d max: \", t_max)\n",
    "print(\"Time diff: \", (p2.data_dict[\"t\"][t_max] - p2.data_dict[\"t\"][g_max]) / 1000)"
   ]
  },
  {
   "cell_type": "code",
   "execution_count": null,
   "metadata": {},
   "outputs": [],
   "source": []
  }
 ],
 "metadata": {
  "kernelspec": {
   "display_name": "Python 3",
   "language": "python",
   "name": "python3"
  },
  "language_info": {
   "codemirror_mode": {
    "name": "ipython",
    "version": 3
   },
   "file_extension": ".py",
   "mimetype": "text/x-python",
   "name": "python",
   "nbconvert_exporter": "python",
   "pygments_lexer": "ipython3",
   "version": "3.10.6"
  },
  "orig_nbformat": 4,
  "vscode": {
   "interpreter": {
    "hash": "916dbcbb3f70747c44a77c7bcd40155683ae19c65e1c03b4aa3499c5328201f1"
   }
  }
 },
 "nbformat": 4,
 "nbformat_minor": 2
}
