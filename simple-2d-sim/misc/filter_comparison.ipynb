{
 "cells": [
  {
   "cell_type": "code",
   "execution_count": 1,
   "metadata": {},
   "outputs": [],
   "source": [
    "import sys\n",
    "sys.path.append('../')\n",
    "\n",
    "from complementary_filter import Complementary_Filter\n",
    "from kalman import KalmanFilter\n",
    "from debugparser import DebugParser\n",
    "import initials as init\n"
   ]
  },
  {
   "cell_type": "code",
   "execution_count": 18,
   "metadata": {},
   "outputs": [],
   "source": [
    "dbgparser = DebugParser(\"/home/andreas/School-local/Kandidatarbete/autonomous_unicycle/sensor_data/run-5-p2.txt\")\n",
    "dbgparser.parse()\n",
    "\n",
    "kalman = init.DEFAULT_KALMAN\n",
    "complementary = Complementary_Filter(0.98, 0.02, 0.0)\n",
    "\n",
    "\n",
    "kalman_angle = []\n",
    "comp_filter_angle = []\n",
    "reading_angle = []\n",
    "embedded_filter_angle = []\n",
    "t = []\n",
    "time = 0\n",
    "accelemeter_data = []\n",
    "gyro_data = []\n",
    "for i  in range(dbgparser.length):\n",
    "    sensor_readings = dbgparser.get_current_readings(i)\n",
    "    dt = dbgparser.get_dt(i)\n",
    "    gyro = -sensor_readings[\"gx\"]\n",
    "    acc = sensor_readings[\"ay\"]\n",
    "    time += dt\n",
    "    t.append(time)\n",
    "    gyro_data.append(gyro)\n",
    "    accelemeter_data.append(acc)\n",
    "    kalman_angle.append(kalman.predict()[0])\n",
    "    kalman.update(gyro)\n",
    "    embedded_filter_angle.append(sensor_readings[\"theta\"])\n",
    "    comp_filter_angle.append(complementary(dt, gyro, acc))\n"
   ]
  },
  {
   "cell_type": "code",
   "execution_count": 2,
   "metadata": {},
   "outputs": [
    {
     "ename": "NameError",
     "evalue": "name 't' is not defined",
     "output_type": "error",
     "traceback": [
      "\u001b[0;31m---------------------------------------------------------------------------\u001b[0m",
      "\u001b[0;31mNameError\u001b[0m                                 Traceback (most recent call last)",
      "Cell \u001b[0;32mIn[2], line 4\u001b[0m\n\u001b[1;32m      1\u001b[0m \u001b[39mimport\u001b[39;00m \u001b[39mmatplotlib\u001b[39;00m\u001b[39m.\u001b[39;00m\u001b[39mpyplot\u001b[39;00m \u001b[39mas\u001b[39;00m \u001b[39mplt\u001b[39;00m\n\u001b[1;32m      3\u001b[0m fig, axs \u001b[39m=\u001b[39m plt\u001b[39m.\u001b[39msubplots(\u001b[39m4\u001b[39m, \u001b[39m1\u001b[39m)\n\u001b[0;32m----> 4\u001b[0m axs[\u001b[39m0\u001b[39m]\u001b[39m.\u001b[39mplot(t, kalman_angle, t, embedded_filter_angle)\n\u001b[1;32m      5\u001b[0m axs[\u001b[39m1\u001b[39m]\u001b[39m.\u001b[39mplot(t, comp_filter_angle, t, embedded_filter_angle)\n\u001b[1;32m      6\u001b[0m axs[\u001b[39m2\u001b[39m]\u001b[39m.\u001b[39mplot(t, dbgparser\u001b[39m.\u001b[39mdf[\u001b[39m\"\u001b[39m\u001b[39mtheta_d\u001b[39m\u001b[39m\"\u001b[39m], t, gyro_data)\n",
      "\u001b[0;31mNameError\u001b[0m: name 't' is not defined"
     ]
    },
    {
     "data": {
      "image/png": "[encoded data removed]",
      "text/plain": [
       "<Figure size 640x480 with 4 Axes>"
      ]
     },
     "metadata": {},
     "output_type": "display_data"
    }
   ],
   "source": [
    "import matplotlib.pyplot as plt\n",
    "\n",
    "\n",
    "\n",
    "\n",
    "fig, axs = plt.subplots(4, 1)\n",
    "axs[0].plot(t, kalman_angle, t, embedded_filter_angle)\n",
    "axs[1].plot(t, comp_filter_angle, t, embedded_filter_angle)\n",
    "axs[2].plot(t, dbgparser.df[\"theta_d\"], t, gyro_data)\n",
    "axs[3].plot(t, accelemeter_data, t, gyro_data, t, dbgparser.df[\"ax\"])\n",
    "#axs[0].set_xlim(0, 2)\n",
    "axs[0].set_xlabel('Time')\n",
    "axs[0].set_ylabel('Kalman and Complementary')\n",
    "axs[0].grid(True)\n",
    "#%matplotlib qt\n",
    "#cxy, f = axs[1].cohere(s1, s2, 256, 1. / dt)\n",
    "#axs[1].set_ylabel('Coherence')\n",
    "\n",
    "#fig.tight_layout()\n",
    "plt.show()"
   ]
  },
  {
   "cell_type": "code",
   "execution_count": 10,
   "metadata": {},
   "outputs": [],
   "source": [
    "import matplotlib.pyplot as plt\n",
    "import numpy as np \n",
    "\n",
    "p = DebugParser(\"/home/andreas/School-local/Kandidatarbete/autonomous_unicycle/sensor_data/20230509/run-roll-fixed-06.txt\")\n",
    "\n",
    "p.parse()\n",
    "\n",
    "t = np.linspace(0,p.length, p.length)\n",
    "df = p.df\n",
    "\n",
    "fig, axs = plt.subplots(5, 1, sharex=True)\n",
    "axs[0].plot(t, p.df[\"gx\"], t, p.df[\"gy\"], t, p.df[\"gz\"])\n",
    "axs[1].plot(t, p.df[\"ax\"], t, p.df[\"ay\"], t, p.df[\"az\"])\n",
    "axs[2].plot(t, p.df[\"theta_roll_comp\"])\n",
    "axs[3].plot(t, p.df[\"rpm_pitch\"])\n",
    "axs[4].plot(t, p.df[\"rpm_roll\"])\n",
    "axs[2].set_ylim(-0.5, 0.5)\n",
    "\n",
    "axs[0].set_xlabel('Time')\n",
    "axs[0].set_ylabel('Kalman and Complementary')\n",
    "axs[0].grid(True)\n",
    "#%matplotlib qt\n",
    "#cxy, f = axs[1].cohere(s1, s2, 256, 1. / dt)\n",
    "#axs[1].set_ylabel('Coherence')\n"
   ]
  },
  {
   "cell_type": "code",
   "execution_count": 3,
   "metadata": {},
   "outputs": [],
   "source": [
    "%matplotlib qt"
   ]
  },
  {
   "cell_type": "code",
   "execution_count": 11,
   "metadata": {},
   "outputs": [],
   "source": [
    "import matplotlib.pyplot as plt\n",
    "import numpy as np \n",
    "\n",
    "p = DebugParser(\"/home/andreas/School-local/Kandidatarbete/autonomous_unicycle/sensor_data/20230503/run-all_axis-test-1.txt\")\n",
    "p.parse()\n",
    "\n",
    "t = np.linspace(0,p.length, p.length)\n",
    "df = p.df\n",
    "\n",
    "fig, axs = plt.subplots(3, 1)\n",
    "axs[0].plot(t, df[\"gx\"], t, df[\"gy\"], t, df[\"gz\"])\n",
    "axs[1].plot(t, df[\"ax\"], t, df[\"ay\"])\n",
    "axs[2].plot(t, df[\"theta_roll_filter\"])\n",
    "#axs[0].set_xlim(0, 2)\n",
    "axs[0].set_xlabel('Time')\n",
    "axs[0].set_ylabel('Kalman and Complementary')\n",
    "axs[0].grid(True)\n",
    "#%matplotlib qt\n",
    "#cxy, f = axs[1].cohere(s1, s2, 256, 1. / dt)\n",
    "#axs[1].set_ylabel('Coherence')"
   ]
  },
  {
   "cell_type": "code",
   "execution_count": 2,
   "metadata": {},
   "outputs": [],
   "source": [
    "\n",
    "def comp_filter(roll_angle, sensor_acc_roll, dt):\n",
    "    acc_predicted_angle = -sensor_acc_roll / 9.82 * (3.14 / 2)\n",
    "    gain = 10 * dt\n",
    "    roll_angle = (1 - gain) * roll_angle + dt * sensor_acc_roll + gain * acc_predicted_angle\n",
    "    return roll_angle"
   ]
  },
  {
   "cell_type": "code",
   "execution_count": 8,
   "metadata": {},
   "outputs": [],
   "source": [
    "import matplotlib.pyplot as plt\n",
    "import numpy as np \n",
    "\n",
    "p_modified_gyro_and_axis_measurement = DebugParser(\"/home/andreas/School-local/Kandidatarbete/autonomous_unicycle/sensor_data/20230505/run-01.txt\")\n",
    "p_modified_gyro_and_axis_measurement.parse()\n",
    "\n",
    "\n",
    "t = np.linspace(0,p_modified_gyro_and_axis_measurement.length, p_modified_gyro_and_axis_measurement.length)\n",
    "df = p_modified_gyro_and_axis_measurement.df\n",
    "\n",
    "kalman = init.DEFAULT_KALMAN\n",
    "complementary = Complementary_Filter(0.96, 0.04, 0.0)\n",
    "\n",
    "\n",
    "kalman_angle = []\n",
    "integration = []\n",
    "comp_filter_angle = []\n",
    "reading_angle = []\n",
    "t = []\n",
    "time = 0\n",
    "accelemeter_data = []\n",
    "gyro_data = []\n",
    "\n",
    "angle = 0.0\n",
    "for i  in range(p_modified_gyro_and_axis_measurement.length):\n",
    "    sensor_readings = p_modified_gyro_and_axis_measurement.get_current_readings(i)\n",
    "    dt = p_modified_gyro_and_axis_measurement.get_dt(i)\n",
    "    gyro = sensor_readings[\"gy\"]\n",
    "    acc = sensor_readings[\"ax\"]\n",
    "    time += dt\n",
    "    t.append(time)\n",
    "    #kalman_angle.append(kalman.predict()[0])\n",
    "    #kalman.update(gyro)\n",
    "    comp_filter_angle.append(complementary(dt, gyro, acc))\n",
    "    integration.append(comp_filter(angle, acc, dt))\n",
    "\n",
    "fig, axs = plt.subplots(4, 1)\n",
    "axs[0].plot(t, df[\"gx\"], t, df[\"gy\"], t, df[\"gz\"])\n",
    "axs[1].plot(t, df[\"ax\"], t, df[\"ay\"], t, df[\"az\"])\n",
    "axs[2].plot(t, df[\"theta_roll_comp\"], t, comp_filter_angle, t, integration)\n",
    "axs[3].plot(t, integration)\n",
    "#axs[0].set_xlim(0, 2)\n",
    "axs[0].set_xlabel('Time')\n",
    "axs[0].set_ylabel('Kalman and Complementary')\n",
    "axs[0].grid(True)\n",
    "#%matplotlib qt\n",
    "#cxy, f = axs[1].cohere(s1, s2, 256, 1. / dt)\n",
    "#axs[1].set_ylabel('Coherence')"
   ]
  },
  {
   "cell_type": "code",
   "execution_count": 7,
   "metadata": {},
   "outputs": [],
   "source": [
    "%matplotlib qt"
   ]
  },
  {
   "cell_type": "code",
   "execution_count": 18,
   "metadata": {},
   "outputs": [],
   "source": [
    "import matplotlib.pyplot as plt\n",
    "import numpy as np \n",
    "\n",
    "p_modified_gyro_and_axis_measurement = DebugParser(\"/home/andreas/School-local/Kandidatarbete/autonomous_unicycle/sensor_data/20230503/run-all_axis-test-9-raw.txt\")\n",
    "p_modified_gyro_and_axis_measurement.parse()\n",
    "\n",
    "\n",
    "t = np.linspace(0,p_modified_gyro_and_axis_measurement.length, p_modified_gyro_and_axis_measurement.length)\n",
    "df = p_modified_gyro_and_axis_measurement.df\n",
    "\n",
    "fig, axs = plt.subplots(3, 1)\n",
    "axs[0].plot(t, df[\"gx\"], t, df[\"gy\"], t, df[\"gz\"])\n",
    "axs[1].plot(t, df[\"ax\"], t, df[\"ay\"])\n",
    "axs[2].plot(t, df[\"theta_roll_filter\"])\n",
    "#axs[0].set_xlim(0, 2)\n",
    "axs[0].set_xlabel('Time')\n",
    "axs[0].set_ylabel('Kalman and Complementary')\n",
    "axs[0].grid(True)\n",
    "#%matplotlib qt\n",
    "#cxy, f = axs[1].cohere(s1, s2, 256, 1. / dt)\n",
    "#axs[1].set_ylabel('Coherence')"
   ]
  },
  {
   "cell_type": "code",
   "execution_count": 20,
   "metadata": {},
   "outputs": [],
   "source": [
    "import matplotlib.pyplot as plt\n",
    "import numpy as np \n",
    "\n",
    "p_modified_gyro_and_axis_measurement = DebugParser(\"/home/andreas/School-local/Kandidatarbete/autonomous_unicycle/sensor_data/20230503/run-all_axis-test-8-raw.txt\")\n",
    "p_modified_gyro_and_axis_measurement.parse()\n",
    "\n",
    "\n",
    "t = np.linspace(0,p_modified_gyro_and_axis_measurement.length, p_modified_gyro_and_axis_measurement.length)\n",
    "df = p_modified_gyro_and_axis_measurement.df\n",
    "\n",
    "fig, axs = plt.subplots(3, 1)\n",
    "axs[0].plot(t, df[\"gx\"], t, df[\"gy\"], t, df[\"gz\"])\n",
    "axs[1].plot(t, df[\"ax\"], t, df[\"ay\"])\n",
    "axs[2].plot(t, df[\"theta_roll_filter\"])\n",
    "#axs[0].set_xlim(0, 2)\n",
    "axs[0].set_xlabel('Time')\n",
    "axs[0].set_ylabel('Kalman and Complementary')\n",
    "axs[0].grid(True)\n",
    "#%matplotlib qt\n",
    "#cxy, f = axs[1].cohere(s1, s2, 256, 1. / dt)\n",
    "#axs[1].set_ylabel('Coherence')"
   ]
  },
  {
   "cell_type": "code",
   "execution_count": null,
   "metadata": {},
   "outputs": [],
   "source": []
  }
 ],
 "metadata": {
  "kernelspec": {
   "display_name": "Python 3",
   "language": "python",
   "name": "python3"
  },
  "language_info": {
   "codemirror_mode": {
    "name": "ipython",
    "version": 3
   },
   "file_extension": ".py",
   "mimetype": "text/x-python",
   "name": "python",
   "nbconvert_exporter": "python",
   "pygments_lexer": "ipython3",
   "version": "3.10.6"
  },
  "orig_nbformat": 4
 },
 "nbformat": 4,
 "nbformat_minor": 2
}
