{
 "cells": [
  {
   "cell_type": "code",
   "execution_count": 2,
   "metadata": {},
   "outputs": [],
   "source": [
    "import sys\n",
    "sys.path.append('../')\n",
    "\n",
    "from complementary_filter import Complementary_Filter\n",
    "from kalman import KalmanFilter\n",
    "from debugparser import DebugParser\n",
    "import initials as init\n"
   ]
  },
  {
   "cell_type": "code",
   "execution_count": 18,
   "metadata": {},
   "outputs": [],
   "source": [
    "dbgparser = DebugParser(\"/home/andreas/School-local/Kandidatarbete/autonomous_unicycle/sensor_data/run-5-p2.txt\")\n",
    "dbgparser.parse()\n",
    "\n",
    "kalman = init.DEFAULT_KALMAN\n",
    "complementary = Complementary_Filter(0.98, 0.02, 0.0)\n",
    "\n",
    "\n",
    "kalman_angle = []\n",
    "comp_filter_angle = []\n",
    "reading_angle = []\n",
    "embedded_filter_angle = []\n",
    "t = []\n",
    "time = 0\n",
    "accelemeter_data = []\n",
    "gyro_data = []\n",
    "for i  in range(dbgparser.length):\n",
    "    sensor_readings = dbgparser.get_current_readings(i)\n",
    "    dt = dbgparser.get_dt(i)\n",
    "    gyro = -sensor_readings[\"gx\"]\n",
    "    acc = sensor_readings[\"ay\"]\n",
    "    time += dt\n",
    "    t.append(time)\n",
    "    gyro_data.append(gyro)\n",
    "    accelemeter_data.append(acc)\n",
    "    kalman_angle.append(kalman.predict()[0])\n",
    "    kalman.update(gyro)\n",
    "    embedded_filter_angle.append(sensor_readings[\"theta\"])\n",
    "    comp_filter_angle.append(complementary(dt, gyro, acc))\n"
   ]
  },
  {
   "cell_type": "code",
   "execution_count": 26,
   "metadata": {},
   "outputs": [
    {
     "name": "stderr",
     "output_type": "stream",
     "text": [
      "/tmp/ipykernel_10405/1766108556.py:17: UserWarning: Matplotlib is currently using Qt5Agg, which is a non-GUI backend, so cannot show the figure.\n",
      "  plt.show()\n"
     ]
    }
   ],
   "source": [
    "import matplotlib.pyplot as plt\n",
    "\n",
    "fig, axs = plt.subplots(4, 1)\n",
    "axs[0].plot(t, kalman_angle, t, embedded_filter_angle)\n",
    "axs[1].plot(t, comp_filter_angle, t, embedded_filter_angle)\n",
    "axs[2].plot(t, dbgparser.df[\"theta_d\"], t, gyro_data)\n",
    "axs[3].plot(t, accelemeter_data, t, gyro_data, t, dbgparser.df[\"ax\"])\n",
    "#axs[0].set_xlim(0, 2)\n",
    "axs[0].set_xlabel('Time')\n",
    "axs[0].set_ylabel('Kalman and Complementary')\n",
    "axs[0].grid(True)\n",
    "#%matplotlib qt\n",
    "#cxy, f = axs[1].cohere(s1, s2, 256, 1. / dt)\n",
    "#axs[1].set_ylabel('Coherence')\n",
    "\n",
    "#fig.tight_layout()\n",
    "plt.show()"
   ]
  },
  {
   "cell_type": "code",
   "execution_count": null,
   "metadata": {},
   "outputs": [],
   "source": []
  }
 ],
 "metadata": {
  "kernelspec": {
   "display_name": "Python 3",
   "language": "python",
   "name": "python3"
  },
  "language_info": {
   "codemirror_mode": {
    "name": "ipython",
    "version": 3
   },
   "file_extension": ".py",
   "mimetype": "text/x-python",
   "name": "python",
   "nbconvert_exporter": "python",
   "pygments_lexer": "ipython3",
   "version": "3.10.6"
  },
  "orig_nbformat": 4
 },
 "nbformat": 4,
 "nbformat_minor": 2
}
