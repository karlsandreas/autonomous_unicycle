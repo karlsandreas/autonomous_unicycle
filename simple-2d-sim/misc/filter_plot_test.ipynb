{
 "cells": [
  {
   "cell_type": "code",
   "execution_count": 1,
   "metadata": {},
   "outputs": [],
   "source": [
    "import numpy as np\n",
    "import random\n",
    "\n",
    "import matplotlib.pyplot as plt\n",
    "\n",
    "import initials as init\n",
    "\n",
    "#Imports for c code\n",
    "from ctypes import *\n",
    "so_file = \"C:/Users/ante_/Documents/Kandidatarbete/autonomous_unicycle/STM32/regulator.so\"\n",
    "reg = CDLL(so_file)\n",
    "\n",
    "so_file_filter = \"C:/Users/ante_/Documents/Kandidatarbete/autonomous_unicycle/STM32/kalman_filter.so\"\n",
    "c_kalman = CDLL(so_file_filter)\n",
    "\n",
    "INIT_STATE = init.INIT_STATE\n",
    "DEFAULT_PARAMETERS = init.DEFAULT_PARAMETERS\n",
    "# DEFAULT_REG = NullRegulator(params=DEFAULT_PARAMETERS)\n",
    "DEFAULT_KALMAN = init.DEFAULT_KALMAN\n",
    "DEFAULT_REG = init.DEFAULT_REG\n",
    "DEFAULT_KALMAN_GAIN = init.DEFAULT_KALMAN_GAIN"
   ]
  },
  {
   "cell_type": "code",
   "execution_count": 2,
   "metadata": {},
   "outputs": [
    {
     "name": "stdout",
     "output_type": "stream",
     "text": [
      "(10003, 4)\n"
     ]
    }
   ],
   "source": [
    "npfile = np.load('../sensor_data/last-run.npz')\n",
    "kalman_data = npfile['kalman_data']\n",
    "sensor_data = npfile['sensor_data']\n",
    "\n",
    "sim_wheel_sensor = np.load('../sensor_data/sim_wheel_pos_d.npy')\n",
    "#sim_wheel_sensor = sim_sensor_file['x_ds']\n",
    "\n",
    "print(sensor_data.shape)"
   ]
  },
  {
   "cell_type": "code",
   "execution_count": 3,
   "metadata": {},
   "outputs": [],
   "source": [
    "steps = sim_wheel_sensor.size\n",
    "sensor_with_noise = np.random.normal(0, 0.05,size=(sim_wheel_sensor.size,1))\n",
    "sin_array = np.sin(np.linspace(-np.pi, np.pi,3000))\n",
    "\n",
    "num_repeat = int(steps/3000)\n",
    "sin_array_repeat = np.tile(sin_array, num_repeat).reshape(num_repeat*3000,1) \n",
    "sin_array_repeat *= 0.01\n",
    "\n",
    "#a = np.add(sensor_low_freq_noise, sensor_with_noise)\n",
    "sim_wheel_sensor_noise = np.add(sim_wheel_sensor.reshape(sim_wheel_sensor.size,1), sin_array_repeat)"
   ]
  },
  {
   "cell_type": "code",
   "execution_count": 4,
   "metadata": {},
   "outputs": [],
   "source": [
    "kalman_out = np.zeros(steps)\n",
    "c_kalman_vel = c_kalman.wheel_velocity_kalman_filter_predict\n",
    "c_kalman_vel.restype = c_float  # Set output type from c code\n",
    "\n",
    "for i in range(0,steps):\n",
    "    dt = 0.001\n",
    "    kalman_out[i] = c_kalman_vel(c_float(dt))\n",
    "    \n",
    "    c_kalman.wheel_velocity_kalman_filter_update(c_float(sim_wheel_sensor_noise[i]), c_float(dt));"
   ]
  },
  {
   "cell_type": "code",
   "execution_count": 5,
   "metadata": {},
   "outputs": [
    {
     "data": {
      "image/png": "[encoded data removed]",
      "text/plain": [
       "<Figure size 432x288 with 4 Axes>"
      ]
     },
     "metadata": {
      "needs_background": "light"
     },
     "output_type": "display_data"
    }
   ],
   "source": [
    "time_axis = np.linspace(0, steps/0.01, steps)\n",
    "\n",
    "fig, axs = plt.subplots(4)\n",
    "axs[0].plot(time_axis, kalman_out,time_axis, sin_array_repeat, time_axis, sim_wheel_sensor)\n",
    "axs[1].plot(time_axis, kalman_out)\n",
    "axs[2].plot(time_axis, sim_wheel_sensor)\n",
    "axs[3].plot(time_axis, sim_wheel_sensor_noise)\n",
    "#axs[1].plot(time_axis, sim_wheel_sensor_noise, label= \"Accleration with noise\")\n",
    "#%matplotlib qt\n",
    "plt.show()"
   ]
  },
  {
   "cell_type": "code",
   "execution_count": 10,
   "metadata": {},
   "outputs": [],
   "source": [
    "dt = 0.01\n",
    "time = 10\n",
    "num_samples = sensor_data.shape[0]\n",
    "\n",
    "time_axis = np.linspace(0,time, num=num_samples).reshape(num_samples,1)\n",
    "sensor_with_noise = np.random.normal(0, 0.05,size=(num_samples,1))\n",
    "\n",
    "\n"
   ]
  },
  {
   "cell_type": "code",
   "execution_count": null,
   "metadata": {},
   "outputs": [],
   "source": []
  },
  {
   "cell_type": "code",
   "execution_count": 12,
   "metadata": {},
   "outputs": [],
   "source": [
    "fig, axs = plt.subplots(3)\n",
    "axs[0].plot(sensor_data.T[0], sensor_data.T[1], label= \"Accleration with noise\")\n",
    "axs[1].plot(sensor_data.T[0], sensor_data.T[2], label= \"Accleration with noise\")\n",
    "axs[2].plot(sensor_data.T[0], sensor_data.T[3], label= \"Accleration with noise\")\n",
    "\n",
    "#%matplotlib qt\n",
    "fig.legend()\n",
    "plt.show()"
   ]
  },
  {
   "cell_type": "code",
   "execution_count": 14,
   "metadata": {},
   "outputs": [
    {
     "name": "stdout",
     "output_type": "stream",
     "text": [
      "0.0003563362117394704 6.486216906924332e-05 1.3907965633667632e-06\n"
     ]
    }
   ],
   "source": [
    "print(np.var(sensor_data.T[1][35:60]), np.var(sensor_data.T[2][35:60]), np.var(sensor_data.T[3][35:60]))"
   ]
  },
  {
   "cell_type": "code",
   "execution_count": null,
   "metadata": {},
   "outputs": [],
   "source": []
  }
 ],
 "metadata": {
  "kernelspec": {
   "display_name": "Python 3",
   "language": "python",
   "name": "python3"
  },
  "language_info": {
   "codemirror_mode": {
    "name": "ipython",
    "version": 3
   },
   "file_extension": ".py",
   "mimetype": "text/x-python",
   "name": "python",
   "nbconvert_exporter": "python",
   "pygments_lexer": "ipython3",
   "version": "3.9.5"
  },
  "orig_nbformat": 4,
  "vscode": {
   "interpreter": {
    "hash": "888bff0a8c90008ee983b57271dfa37ebdcd0340508e4c0f931d14a791d684a5"
   }
  }
 },
 "nbformat": 4,
 "nbformat_minor": 2
}
